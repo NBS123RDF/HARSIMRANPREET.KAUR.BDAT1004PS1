{
 "cells": [
  {
   "cell_type": "markdown",
   "id": "8220c1a2",
   "metadata": {},
   "source": [
    "Question 6 python:"
   ]
  },
  {
   "cell_type": "code",
   "execution_count": 1,
   "id": "8aac832e",
   "metadata": {},
   "outputs": [],
   "source": [
    "def pig(user_input):\n",
    "    Lst = ['a', 'e', 'i','o', 'u']\n",
    "    Input=user_input.lower()\n",
    "    if  Input[0] in Lst:\n",
    "        return Input +\"way\"\n",
    "    else:\n",
    "        return Input[1:] + Input[0] + \"ay\"\n"
   ]
  },
  {
   "cell_type": "code",
   "execution_count": 2,
   "id": "ecb0c7c7",
   "metadata": {},
   "outputs": [
    {
     "data": {
      "text/plain": [
       "'eggway'"
      ]
     },
     "execution_count": 2,
     "metadata": {},
     "output_type": "execute_result"
    }
   ],
   "source": [
    "pig('Egg')"
   ]
  },
  {
   "cell_type": "code",
   "execution_count": 3,
   "id": "5f59d477",
   "metadata": {},
   "outputs": [
    {
     "data": {
      "text/plain": [
       "'allbay'"
      ]
     },
     "execution_count": 3,
     "metadata": {},
     "output_type": "execute_result"
    }
   ],
   "source": [
    "pig('Ball')"
   ]
  },
  {
   "cell_type": "markdown",
   "id": "22729dcd",
   "metadata": {},
   "source": [
    "Question 7 python"
   ]
  },
  {
   "cell_type": "code",
   "execution_count": 4,
   "id": "da6a394d",
   "metadata": {},
   "outputs": [],
   "source": [
    "\n",
    "def bldcount(Input):\n",
    "    R= open(Input, 'r')\n",
    "    l1 = R.readlines()\n",
    "    List = ['A','B','AB', 'O','OO']\n",
    "    Bld_Grp = []\n",
    "    for i in l1:\n",
    "        a = i.split()\n",
    "        Bld_Grp.append(a)\n",
    "\n",
    "    freq = {}\n",
    "\n",
    "    for item in Bld_Grp[0]:\n",
    "       if item in freq:\n",
    "          freq[item] += 1\n",
    "       else:\n",
    "          freq[item] = 1\n",
    "            \n",
    "    for i in List:\n",
    "        if i in freq:\n",
    "            print(\"There are\",freq[i],\"patients of blood type\",i)\n",
    "        else:\n",
    "            print(\"There is no patients of blood type\",i)\n"
   ]
  },
  {
   "cell_type": "code",
   "execution_count": 5,
   "id": "f4022cb0",
   "metadata": {},
   "outputs": [
    {
     "name": "stdout",
     "output_type": "stream",
     "text": [
      "There are 15 patients of blood type A\n",
      "There are 1 patients of blood type B\n",
      "There are 13 patients of blood type AB\n",
      "There are 15 patients of blood type O\n",
      "There is no patients of blood type OO\n"
     ]
    }
   ],
   "source": [
    "bldcount('bloodtype.txt')"
   ]
  },
  {
   "cell_type": "markdown",
   "id": "1b942284",
   "metadata": {},
   "source": [
    "Question 8 python "
   ]
  },
  {
   "cell_type": "code",
   "execution_count": 6,
   "id": "02a25677",
   "metadata": {},
   "outputs": [],
   "source": [
    "def curconv(x,y):\n",
    "    File = open('currencies.txt', 'r')\n",
    "    Data = File.readlines()\n",
    "    a = []\n",
    "    for line in Data:\n",
    "        a.append(line.split())\n",
    "    for i in range(len(a)):\n",
    "        if x == a[i][0]:\n",
    "            print(float(a[i][1])*y)"
   ]
  },
  {
   "cell_type": "code",
   "execution_count": 7,
   "id": "df18c614",
   "metadata": {},
   "outputs": [
    {
     "name": "stdout",
     "output_type": "stream",
     "text": [
      "7.518479999999999\n"
     ]
    }
   ],
   "source": [
    "curconv('MXN',100)"
   ]
  },
  {
   "cell_type": "markdown",
   "id": "c8384dd0",
   "metadata": {},
   "source": [
    "Question - 9 Python"
   ]
  },
  {
   "cell_type": "markdown",
   "id": "11e4e33c",
   "metadata": {},
   "source": [
    "\n",
    "TypeError: unsupported operand type(s) for +: 'int' and 'str'\n",
    "\n",
    "IndexError: list index out of range\n",
    "\n",
    "ValueError: math domain error\n",
    "\n",
    "NameError: name 'x' is not defined\n",
    "\n",
    "FileNotFoundError: [Errno 2] No such file or directory: 'file_name.txt'\n"
   ]
  },
  {
   "cell_type": "markdown",
   "id": "2ab8411c",
   "metadata": {},
   "source": [
    "Question - 10 Python"
   ]
  },
  {
   "cell_type": "code",
   "execution_count": 8,
   "id": "eb543332",
   "metadata": {},
   "outputs": [],
   "source": [
    "def frequency(user_input):\n",
    "    List = ['a','b','c','d','e','f','g','h','i','j','k','l','m','n','o','p','q','r','s','t','u','v','w','x','y','z']\n",
    "\n",
    "    Blank_List = [0,0,0,0,0,0,0,0,0,0,0,0,0,0,0,0,0,0,0,0,0,0,0,0,0,0]\n",
    "\n",
    "\n",
    "    string=user_input.lower() \n",
    "    \n",
    "    a = []\n",
    "    for i in string:\n",
    "        a.append(i)\n",
    "\n",
    "    freq = {}\n",
    "\n",
    "    for item in a:\n",
    "       if item in freq:\n",
    "          freq[item] += 1\n",
    "       else:\n",
    "          freq[item] = 1\n",
    "\n",
    "    for i in freq:\n",
    "\n",
    "        if i  in List:\n",
    "            x = List.index(i)\n",
    "            Blank_List[x] =freq[i]\n",
    "\n",
    "    print(Blank_List)\n"
   ]
  },
  {
   "cell_type": "code",
   "execution_count": 9,
   "id": "8ed6653e",
   "metadata": {},
   "outputs": [
    {
     "name": "stdout",
     "output_type": "stream",
     "text": [
      "[1, 0, 0, 0, 0, 0, 0, 0, 1, 0, 0, 0, 1, 1, 0, 0, 0, 1, 1, 0, 0, 0, 0, 0, 0, 0]\n"
     ]
    }
   ],
   "source": [
    "frequency('Simran!!!')"
   ]
  },
  {
   "cell_type": "code",
   "execution_count": null,
   "id": "7da404fd",
   "metadata": {},
   "outputs": [],
   "source": []
  }
 ],
 "metadata": {
  "kernelspec": {
   "display_name": "Python 3 (ipykernel)",
   "language": "python",
   "name": "python3"
  },
  "language_info": {
   "codemirror_mode": {
    "name": "ipython",
    "version": 3
   },
   "file_extension": ".py",
   "mimetype": "text/x-python",
   "name": "python",
   "nbconvert_exporter": "python",
   "pygments_lexer": "ipython3",
   "version": "3.9.12"
  }
 },
 "nbformat": 4,
 "nbformat_minor": 5
}
